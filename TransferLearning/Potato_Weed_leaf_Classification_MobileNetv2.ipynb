{
  "nbformat": 4,
  "nbformat_minor": 0,
  "metadata": {
    "colab": {
      "name": "Potato_Weed_leaf_Classification_MobileNetv2.ipynb",
      "provenance": [],
      "collapsed_sections": [],
      "authorship_tag": "ABX9TyNyDdXxrs9EW814AVQi5xHg",
      "include_colab_link": true
    },
    "kernelspec": {
      "name": "python3",
      "display_name": "Python 3"
    }
  },
  "cells": [
    {
      "cell_type": "markdown",
      "metadata": {
        "id": "view-in-github",
        "colab_type": "text"
      },
      "source": [
        "<a href=\"https://colab.research.google.com/github/ali7432/PotatoWeedLeaf_Classification_CNN/blob/main/TransferLearning/Potato_Weed_leaf_Classification_MobileNetv2.ipynb\" target=\"_parent\"><img src=\"https://colab.research.google.com/assets/colab-badge.svg\" alt=\"Open In Colab\"/></a>"
      ]
    },
    {
      "cell_type": "markdown",
      "metadata": {
        "id": "uiQblWVRdl4E"
      },
      "source": [
        "## Import libraries\r\n",
        "We used following libraries\r\n",
        "\r\n",
        "* **Matplotlib**\r\n",
        "To draw the training progress plot for training accuracy, validation accuracy, training loss and valiadation loss.\r\n",
        "* **Tensoflow&Keras**\r\n",
        "To design and train Deep Learning Model.\r\n",
        "* **Sklearn**\r\n",
        "To calculate and draw the  confusion matrix."
      ]
    },
    {
      "cell_type": "code",
      "metadata": {
        "colab": {
          "base_uri": "https://localhost:8080/"
        },
        "id": "9HYQw8Noc_r5",
        "outputId": "3e0e0cc1-48ac-4495-b8e9-5577cbafc681"
      },
      "source": [
        "import IPython.display as display\r\n",
        "import matplotlib.pyplot as plt\r\n",
        "import numpy as np\r\n",
        "import keras\r\n",
        "import tensorflow as tf\r\n",
        "from tensorflow.keras.layers import *\r\n",
        "from tensorflow.keras.callbacks import EarlyStopping, ModelCheckpoint\r\n",
        "from tensorflow.keras.optimizers import Adam\r\n",
        "from google.colab import drive\r\n",
        "drive.mount('/content/drive')"
      ],
      "execution_count": 1,
      "outputs": [
        {
          "output_type": "stream",
          "text": [
            "Mounted at /content/drive\n"
          ],
          "name": "stdout"
        }
      ]
    },
    {
      "cell_type": "markdown",
      "metadata": {
        "id": "-FwXW1GBreiU"
      },
      "source": [
        "## Import and PreProcess Data"
      ]
    },
    {
      "cell_type": "code",
      "metadata": {
        "id": "WHz_3qi1d9PZ"
      },
      "source": [
        "train_dir = \"/Dataset/train\"\r\n",
        "validation_dir = \"/Dataset/val\""
      ],
      "execution_count": 2,
      "outputs": []
    },
    {
      "cell_type": "code",
      "metadata": {
        "id": "-dMm6gEXfdOj"
      },
      "source": [
        "# Image size that we are going to use\r\n",
        "IMG_SIZE = 128\r\n",
        "# Our images are RGB (3 channels)\r\n",
        "N_CHANNELS = 3\r\n",
        "# Weed + Potato\r\n",
        "N_CLASSES = 2\r\n",
        "# Batch Size\r\n",
        "BATCH_SIZE=16"
      ],
      "execution_count": 3,
      "outputs": []
    },
    {
      "cell_type": "markdown",
      "metadata": {
        "id": "4qtyLlQWtGf_"
      },
      "source": [
        "Tabel 1\r\n",
        "\r\n",
        ">For | No. of Samples\r\n",
        ">--- | ---\r\n",
        "> Training| 336\r\n",
        "> Testing | 75\r\n",
        "\r\n",
        "Tabel 2 (Training Data)  \r\n",
        ">Class | No. of Samples\r\n",
        ">--- | ---\r\n",
        "> Potato| 138\r\n",
        "> Weeds | 198\r\n",
        "\r\n",
        "Tabel 3 (Testing Data)    \r\n",
        ">Class | No. of Samples\r\n",
        ">--- | ---\r\n",
        "> Potato| 31\r\n",
        "> Weeds | 44"
      ]
    },
    {
      "cell_type": "code",
      "metadata": {
        "colab": {
          "base_uri": "https://localhost:8080/"
        },
        "id": "goBIb7mmgfBM",
        "outputId": "fd93fd38-e202-4501-e225-5f3b8855b594"
      },
      "source": [
        "train_datagen=tf.keras.preprocessing.image.ImageDataGenerator(\r\n",
        "    rescale=1./255,\r\n",
        "    shear_range=0.2,\r\n",
        "    zoom_range=0.2,\r\n",
        "    rotation_range=20,\r\n",
        "    horizontal_flip=True,\r\n",
        "    vertical_flip=True)\r\n",
        "val_datagen=tf.keras.preprocessing.image.ImageDataGenerator(\r\n",
        "    rescale=1./255,)\r\n",
        "# Flow training images in batches of 20 using train_datagen generator\r\n",
        "train_generator = train_datagen.flow_from_directory(\r\n",
        "        train_dir,  # This is the source directory for training images\r\n",
        "        target_size=(IMG_SIZE, IMG_SIZE),  # All images will be resized to 128x128\r\n",
        "        batch_size=BATCH_SIZE,\r\n",
        "        # Since we use binary_crossentropy loss, we need binary labels\r\n",
        "        class_mode='binary')\r\n",
        "\r\n",
        "# Flow validation images in batches of 20 using val_datagen generator\r\n",
        "validation_generator = val_datagen.flow_from_directory(\r\n",
        "        validation_dir,\r\n",
        "        target_size=(IMG_SIZE, IMG_SIZE),\r\n",
        "        batch_size=BATCH_SIZE,\r\n",
        "        class_mode='binary',\r\n",
        "        shuffle=False)"
      ],
      "execution_count": 20,
      "outputs": [
        {
          "output_type": "stream",
          "text": [
            "Found 336 images belonging to 2 classes.\n",
            "Found 75 images belonging to 2 classes.\n"
          ],
          "name": "stdout"
        }
      ]
    },
    {
      "cell_type": "markdown",
      "metadata": {
        "id": "pn3iksu8s-I2"
      },
      "source": [
        "## Design Network"
      ]
    },
    {
      "cell_type": "code",
      "metadata": {
        "id": "fgWd-xatflfb"
      },
      "source": [
        "base_model = tf.keras.applications.MobileNetV2(input_shape=[128,128, 3], include_top=False)\r\n",
        "base_model.trainable = False\r\n",
        "inputs = Input(shape=(128,128, 3))\r\n",
        "# We make sure that the base_model is running in inference mode here,\r\n",
        "# by passing `training=False`. This is important for fine-tuning, as you will\r\n",
        "# learn in a few paragraphs.\r\n",
        "x = base_model(inputs, training=False)\r\n",
        "# Convert features of shape `base_model.output_shape[1:]` to vectors\r\n",
        "x = keras.layers.GlobalAveragePooling2D()(x)\r\n",
        "# A Dense classifier with a single unit (binary classification)\r\n",
        "outputs = keras.layers.Dense(1,activation='sigmoid')(x)\r\n",
        "model = tf.keras.Model(inputs, outputs)"
      ],
      "execution_count": 26,
      "outputs": []
    },
    {
      "cell_type": "code",
      "metadata": {
        "id": "o22BZySYi7wM"
      },
      "source": [
        "model.compile(optimizer=keras.optimizers.Adam(),\r\n",
        "              loss=keras.losses.BinaryCrossentropy(from_logits=True),\r\n",
        "              metrics=['accuracy'])"
      ],
      "execution_count": 27,
      "outputs": []
    },
    {
      "cell_type": "markdown",
      "metadata": {
        "id": "L4dSPFdHt_C0"
      },
      "source": [
        "## Train Network "
      ]
    },
    {
      "cell_type": "code",
      "metadata": {
        "colab": {
          "base_uri": "https://localhost:8080/"
        },
        "id": "nwelEqMsjHO_",
        "outputId": "9d1f6cc2-2243-454d-8cd2-b5597958bbf1"
      },
      "source": [
        "# No of EPOCHS\r\n",
        "EPOCH=20\r\n",
        "\r\n",
        "history=model.fit(train_generator, epochs=EPOCH, validation_data=validation_generator,verbose=2)"
      ],
      "execution_count": 28,
      "outputs": [
        {
          "output_type": "stream",
          "text": [
            "Epoch 1/20\n",
            "21/21 - 9s - loss: 0.5958 - accuracy: 0.6905 - val_loss: 0.5271 - val_accuracy: 0.7200\n",
            "Epoch 2/20\n",
            "21/21 - 6s - loss: 0.3521 - accuracy: 0.8661 - val_loss: 0.3248 - val_accuracy: 0.9067\n",
            "Epoch 3/20\n",
            "21/21 - 6s - loss: 0.2603 - accuracy: 0.9256 - val_loss: 0.2091 - val_accuracy: 0.9600\n",
            "Epoch 4/20\n",
            "21/21 - 6s - loss: 0.1896 - accuracy: 0.9643 - val_loss: 0.1650 - val_accuracy: 0.9600\n",
            "Epoch 5/20\n",
            "21/21 - 6s - loss: 0.1497 - accuracy: 0.9762 - val_loss: 0.1487 - val_accuracy: 0.9600\n",
            "Epoch 6/20\n",
            "21/21 - 6s - loss: 0.1524 - accuracy: 0.9643 - val_loss: 0.1228 - val_accuracy: 0.9733\n",
            "Epoch 7/20\n",
            "21/21 - 6s - loss: 0.1241 - accuracy: 0.9851 - val_loss: 0.1084 - val_accuracy: 0.9733\n",
            "Epoch 8/20\n",
            "21/21 - 6s - loss: 0.1125 - accuracy: 0.9762 - val_loss: 0.0996 - val_accuracy: 0.9733\n",
            "Epoch 9/20\n",
            "21/21 - 6s - loss: 0.1237 - accuracy: 0.9673 - val_loss: 0.0953 - val_accuracy: 0.9600\n",
            "Epoch 10/20\n",
            "21/21 - 6s - loss: 0.1066 - accuracy: 0.9673 - val_loss: 0.0876 - val_accuracy: 0.9733\n",
            "Epoch 11/20\n",
            "21/21 - 6s - loss: 0.1002 - accuracy: 0.9762 - val_loss: 0.0842 - val_accuracy: 0.9733\n",
            "Epoch 12/20\n",
            "21/21 - 6s - loss: 0.0951 - accuracy: 0.9792 - val_loss: 0.0799 - val_accuracy: 0.9733\n",
            "Epoch 13/20\n",
            "21/21 - 6s - loss: 0.0919 - accuracy: 0.9762 - val_loss: 0.0643 - val_accuracy: 0.9733\n",
            "Epoch 14/20\n",
            "21/21 - 6s - loss: 0.1023 - accuracy: 0.9702 - val_loss: 0.0648 - val_accuracy: 0.9733\n",
            "Epoch 15/20\n",
            "21/21 - 6s - loss: 0.0917 - accuracy: 0.9762 - val_loss: 0.0591 - val_accuracy: 0.9733\n",
            "Epoch 16/20\n",
            "21/21 - 6s - loss: 0.0827 - accuracy: 0.9792 - val_loss: 0.0610 - val_accuracy: 0.9867\n",
            "Epoch 17/20\n",
            "21/21 - 6s - loss: 0.0646 - accuracy: 0.9851 - val_loss: 0.0541 - val_accuracy: 0.9867\n",
            "Epoch 18/20\n",
            "21/21 - 6s - loss: 0.0797 - accuracy: 0.9821 - val_loss: 0.0580 - val_accuracy: 0.9867\n",
            "Epoch 19/20\n",
            "21/21 - 6s - loss: 0.0611 - accuracy: 0.9762 - val_loss: 0.0550 - val_accuracy: 0.9867\n",
            "Epoch 20/20\n",
            "21/21 - 6s - loss: 0.0906 - accuracy: 0.9732 - val_loss: 0.0581 - val_accuracy: 0.9867\n"
          ],
          "name": "stdout"
        }
      ]
    },
    {
      "cell_type": "markdown",
      "metadata": {
        "id": "at3IfsVluEbG"
      },
      "source": [
        "## Plot Training Progress"
      ]
    },
    {
      "cell_type": "code",
      "metadata": {
        "colab": {
          "base_uri": "https://localhost:8080/",
          "height": 562
        },
        "id": "rM2ocXdNmAre",
        "outputId": "6a89301e-ca5a-4fb3-93ab-7ef3107a4268"
      },
      "source": [
        "# Retrieve a list of accuracy results on training and validation data\r\n",
        "# sets for each training epoch\r\n",
        "acc = history.history['accuracy']\r\n",
        "val_acc = history.history['val_accuracy']\r\n",
        "\r\n",
        "# Retrieve a list of list results on training and validation data\r\n",
        "# sets for each training epoch\r\n",
        "loss = history.history['loss']\r\n",
        "val_loss = history.history['val_loss']\r\n",
        "\r\n",
        "# Get number of epochs\r\n",
        "epochs = range(len(acc))\r\n",
        "\r\n",
        "# Plot training and validation accuracy per epoch\r\n",
        "plt.plot(epochs, acc)\r\n",
        "plt.plot(epochs, val_acc)\r\n",
        "plt.title('Training and validation accuracy')\r\n",
        "\r\n",
        "plt.figure()\r\n",
        "\r\n",
        "# Plot training and validation loss per epoch\r\n",
        "plt.plot(epochs, loss)\r\n",
        "plt.plot(epochs, val_loss)\r\n",
        "plt.title('Training and validation loss')"
      ],
      "execution_count": 29,
      "outputs": [
        {
          "output_type": "execute_result",
          "data": {
            "text/plain": [
              "Text(0.5, 1.0, 'Training and validation loss')"
            ]
          },
          "metadata": {
            "tags": []
          },
          "execution_count": 29
        },
        {
          "output_type": "display_data",
          "data": {
            "image/png": "[encoded data removed]",
            "text/plain": [
              "<Figure size 432x288 with 1 Axes>"
            ]
          },
          "metadata": {
            "tags": [],
            "needs_background": "light"
          }
        },
        {
          "output_type": "display_data",
          "data": {
            "image/png": "[encoded data removed]",
            "text/plain": [
              "<Figure size 432x288 with 1 Axes>"
            ]
          },
          "metadata": {
            "tags": [],
            "needs_background": "light"
          }
        }
      ]
    },
    {
      "cell_type": "markdown",
      "metadata": {
        "id": "jrWPhqcnuMqz"
      },
      "source": [
        "## Evaluate Model"
      ]
    },
    {
      "cell_type": "code",
      "metadata": {
        "id": "XiVg3cgnoUlp"
      },
      "source": [
        "from sklearn.metrics import confusion_matrix,plot_confusion_matrix\r\n",
        "import itertools\r\n",
        "def plot_confusion_matrix(cm, classes,\r\n",
        "                        normalize=False,\r\n",
        "                        title='Confusion matrix',\r\n",
        "                        cmap=plt.cm.Blues):\r\n",
        "    \"\"\"\r\n",
        "    This function prints and plots the confusion matrix.\r\n",
        "    Normalization can be applied by setting `normalize=True`.\r\n",
        "    \"\"\"\r\n",
        "    plt.imshow(cm, interpolation='nearest', cmap=cmap)\r\n",
        "    plt.title(title)\r\n",
        "    plt.colorbar()\r\n",
        "    tick_marks = np.arange(len(classes))\r\n",
        "    plt.xticks(tick_marks, classes, rotation=45)\r\n",
        "    plt.yticks(tick_marks, classes)\r\n",
        "\r\n",
        "    if normalize:\r\n",
        "        cm = cm.astype('float') / cm.sum(axis=1)[:, np.newaxis]\r\n",
        "        print(\"Normalized confusion matrix\")\r\n",
        "    else:\r\n",
        "        print('Confusion matrix, without normalization')\r\n",
        "\r\n",
        "\r\n",
        "    thresh = cm.max() / 2.\r\n",
        "    for i, j in itertools.product(range(cm.shape[0]), range(cm.shape[1])):\r\n",
        "        plt.text(j, i, cm[i, j],\r\n",
        "            horizontalalignment=\"center\",\r\n",
        "            color=\"white\" if cm[i, j] > thresh else \"black\")\r\n",
        "\r\n",
        "    plt.tight_layout()\r\n",
        "    plt.ylabel('True label')\r\n",
        "    plt.xlabel('Predicted label')"
      ],
      "execution_count": 30,
      "outputs": []
    },
    {
      "cell_type": "code",
      "metadata": {
        "colab": {
          "base_uri": "https://localhost:8080/",
          "height": 382
        },
        "id": "yR7_NP0hoVhh",
        "outputId": "7971208c-59a4-4fe6-b1d5-044e6b67ef3b"
      },
      "source": [
        "y_true = validation_generator.classes\r\n",
        "y_pred=model.predict_generator(validation_generator)\r\n",
        "y_pred = np.rint(y_pred)\r\n",
        "cm=confusion_matrix(y_true,y_pred)\r\n",
        "\r\n",
        "class_names = ['Potato','Weed']\r\n",
        "plot_confusion_matrix(cm=cm, classes=class_names, title='Confusion Matrix')"
      ],
      "execution_count": 32,
      "outputs": [
        {
          "output_type": "stream",
          "text": [
            "/usr/local/lib/python3.6/dist-packages/tensorflow/python/keras/engine/training.py:1905: UserWarning: `Model.predict_generator` is deprecated and will be removed in a future version. Please use `Model.predict`, which supports generators.\n",
            "  warnings.warn('`Model.predict_generator` is deprecated and '\n"
          ],
          "name": "stderr"
        },
        {
          "output_type": "stream",
          "text": [
            "Confusion matrix, without normalization\n"
          ],
          "name": "stdout"
        },
        {
          "output_type": "display_data",
          "data": {
            "image/png": "[encoded data removed]",
            "text/plain": [
              "<Figure size 432x288 with 2 Axes>"
            ]
          },
          "metadata": {
            "tags": [],
            "needs_background": "light"
          }
        }
      ]
    }
  ]
}